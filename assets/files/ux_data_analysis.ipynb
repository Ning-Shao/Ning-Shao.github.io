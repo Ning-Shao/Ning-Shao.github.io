{
 "cells": [
  {
   "cell_type": "markdown",
   "id": "6b2bd839-18d7-48de-9bc2-0630559df34b",
   "metadata": {},
   "source": [
    "# Google Play Store APPs Data Analysis"
   ]
  },
  {
   "cell_type": "markdown",
   "id": "0875ec02-1222-4a60-b53c-13366c62f372",
   "metadata": {},
   "source": [
    "Note: This project was completed as a self-learning exercise.\n",
    "I received guidance on how to use Python libraries for data loading and visualization,\n",
    "but all data analysis and interpretation are my own work."
   ]
  },
  {
   "cell_type": "markdown",
   "id": "cd823e8e-51cb-43a9-9249-0895a322335a",
   "metadata": {},
   "source": [
    "Used Libraries\n",
    "1. NumPy (Numerical Python)\n",
    "2. Pandas\n",
    "3. Matplotlib"
   ]
  },
  {
   "cell_type": "code",
   "execution_count": 1,
   "id": "c89d581c-e670-4e2c-87f1-e0a51911bed9",
   "metadata": {
    "scrolled": true
   },
   "outputs": [
    {
     "data": {
      "text/html": [
       "<div>\n",
       "<style scoped>\n",
       "    .dataframe tbody tr th:only-of-type {\n",
       "        vertical-align: middle;\n",
       "    }\n",
       "\n",
       "    .dataframe tbody tr th {\n",
       "        vertical-align: top;\n",
       "    }\n",
       "\n",
       "    .dataframe thead th {\n",
       "        text-align: right;\n",
       "    }\n",
       "</style>\n",
       "<table border=\"1\" class=\"dataframe\">\n",
       "  <thead>\n",
       "    <tr style=\"text-align: right;\">\n",
       "      <th></th>\n",
       "      <th>App</th>\n",
       "      <th>Category</th>\n",
       "      <th>Rating</th>\n",
       "      <th>Reviews</th>\n",
       "      <th>Size</th>\n",
       "      <th>Installs</th>\n",
       "      <th>Type</th>\n",
       "      <th>Price</th>\n",
       "      <th>Content Rating</th>\n",
       "      <th>Genres</th>\n",
       "      <th>Last Updated</th>\n",
       "      <th>Current Ver</th>\n",
       "      <th>Android Ver</th>\n",
       "    </tr>\n",
       "  </thead>\n",
       "  <tbody>\n",
       "    <tr>\n",
       "      <th>0</th>\n",
       "      <td>Photo Editor &amp; Candy Camera &amp; Grid &amp; ScrapBook</td>\n",
       "      <td>ART_AND_DESIGN</td>\n",
       "      <td>4.1</td>\n",
       "      <td>159</td>\n",
       "      <td>19M</td>\n",
       "      <td>10,000+</td>\n",
       "      <td>Free</td>\n",
       "      <td>0</td>\n",
       "      <td>Everyone</td>\n",
       "      <td>Art &amp; Design</td>\n",
       "      <td>January 7, 2018</td>\n",
       "      <td>1.0.0</td>\n",
       "      <td>4.0.3 and up</td>\n",
       "    </tr>\n",
       "    <tr>\n",
       "      <th>1</th>\n",
       "      <td>Coloring book moana</td>\n",
       "      <td>ART_AND_DESIGN</td>\n",
       "      <td>3.9</td>\n",
       "      <td>967</td>\n",
       "      <td>14M</td>\n",
       "      <td>500,000+</td>\n",
       "      <td>Free</td>\n",
       "      <td>0</td>\n",
       "      <td>Everyone</td>\n",
       "      <td>Art &amp; Design;Pretend Play</td>\n",
       "      <td>January 15, 2018</td>\n",
       "      <td>2.0.0</td>\n",
       "      <td>4.0.3 and up</td>\n",
       "    </tr>\n",
       "    <tr>\n",
       "      <th>2</th>\n",
       "      <td>U Launcher Lite – FREE Live Cool Themes, Hide ...</td>\n",
       "      <td>ART_AND_DESIGN</td>\n",
       "      <td>4.7</td>\n",
       "      <td>87510</td>\n",
       "      <td>8.7M</td>\n",
       "      <td>5,000,000+</td>\n",
       "      <td>Free</td>\n",
       "      <td>0</td>\n",
       "      <td>Everyone</td>\n",
       "      <td>Art &amp; Design</td>\n",
       "      <td>August 1, 2018</td>\n",
       "      <td>1.2.4</td>\n",
       "      <td>4.0.3 and up</td>\n",
       "    </tr>\n",
       "    <tr>\n",
       "      <th>3</th>\n",
       "      <td>Sketch - Draw &amp; Paint</td>\n",
       "      <td>ART_AND_DESIGN</td>\n",
       "      <td>4.5</td>\n",
       "      <td>215644</td>\n",
       "      <td>25M</td>\n",
       "      <td>50,000,000+</td>\n",
       "      <td>Free</td>\n",
       "      <td>0</td>\n",
       "      <td>Teen</td>\n",
       "      <td>Art &amp; Design</td>\n",
       "      <td>June 8, 2018</td>\n",
       "      <td>Varies with device</td>\n",
       "      <td>4.2 and up</td>\n",
       "    </tr>\n",
       "    <tr>\n",
       "      <th>4</th>\n",
       "      <td>Pixel Draw - Number Art Coloring Book</td>\n",
       "      <td>ART_AND_DESIGN</td>\n",
       "      <td>4.3</td>\n",
       "      <td>967</td>\n",
       "      <td>2.8M</td>\n",
       "      <td>100,000+</td>\n",
       "      <td>Free</td>\n",
       "      <td>0</td>\n",
       "      <td>Everyone</td>\n",
       "      <td>Art &amp; Design;Creativity</td>\n",
       "      <td>June 20, 2018</td>\n",
       "      <td>1.1</td>\n",
       "      <td>4.4 and up</td>\n",
       "    </tr>\n",
       "  </tbody>\n",
       "</table>\n",
       "</div>"
      ],
      "text/plain": [
       "                                                 App        Category  Rating  \\\n",
       "0     Photo Editor & Candy Camera & Grid & ScrapBook  ART_AND_DESIGN     4.1   \n",
       "1                                Coloring book moana  ART_AND_DESIGN     3.9   \n",
       "2  U Launcher Lite – FREE Live Cool Themes, Hide ...  ART_AND_DESIGN     4.7   \n",
       "3                              Sketch - Draw & Paint  ART_AND_DESIGN     4.5   \n",
       "4              Pixel Draw - Number Art Coloring Book  ART_AND_DESIGN     4.3   \n",
       "\n",
       "  Reviews  Size     Installs  Type Price Content Rating  \\\n",
       "0     159   19M      10,000+  Free     0       Everyone   \n",
       "1     967   14M     500,000+  Free     0       Everyone   \n",
       "2   87510  8.7M   5,000,000+  Free     0       Everyone   \n",
       "3  215644   25M  50,000,000+  Free     0           Teen   \n",
       "4     967  2.8M     100,000+  Free     0       Everyone   \n",
       "\n",
       "                      Genres      Last Updated         Current Ver  \\\n",
       "0               Art & Design   January 7, 2018               1.0.0   \n",
       "1  Art & Design;Pretend Play  January 15, 2018               2.0.0   \n",
       "2               Art & Design    August 1, 2018               1.2.4   \n",
       "3               Art & Design      June 8, 2018  Varies with device   \n",
       "4    Art & Design;Creativity     June 20, 2018                 1.1   \n",
       "\n",
       "    Android Ver  \n",
       "0  4.0.3 and up  \n",
       "1  4.0.3 and up  \n",
       "2  4.0.3 and up  \n",
       "3    4.2 and up  \n",
       "4    4.4 and up  "
      ]
     },
     "execution_count": 1,
     "metadata": {},
     "output_type": "execute_result"
    }
   ],
   "source": [
    "# Importing Necessary Libraries\n",
    "\n",
    "#Data\n",
    "import numpy as np\n",
    "import pandas as pd\n",
    "data = pd.read_csv(\"googleplaystore.csv\")\n",
    "data.head()\n",
    "\n",
    "# Visualization\n",
    "import matplotlib.pyplot as plt"
   ]
  },
  {
   "cell_type": "markdown",
   "id": "d4b7972c-5341-40d6-819b-5ebdd759973a",
   "metadata": {},
   "source": [
    "## Content: \n",
    "1. Data Overview\n",
    "2. Pandas Data Cleaning\n",
    "3. Matplotlib Data Visualization"
   ]
  },
  {
   "cell_type": "markdown",
   "id": "c6af4461-7ba1-4217-ad63-face9e37c1a4",
   "metadata": {},
   "source": [
    "### Step 1: Data Overview"
   ]
  },
  {
   "cell_type": "code",
   "execution_count": 2,
   "id": "7a39494b-0584-4048-8cdc-85c75e282c6b",
   "metadata": {},
   "outputs": [
    {
     "data": {
      "text/plain": [
       "(10841, 13)"
      ]
     },
     "execution_count": 2,
     "metadata": {},
     "output_type": "execute_result"
    }
   ],
   "source": [
    "data.shape"
   ]
  },
  {
   "cell_type": "markdown",
   "id": "fe7316f5-b762-49e8-8f7c-4bc41834a533",
   "metadata": {},
   "source": [
    "**Interpretation on Data Structure:**\n",
    "The dataset includes 10,841 observations and 13 variables. Each observation corresponds to one recorded Android application. \n",
    "Each row represents a unique Android application, while each column provides a specific attribute of the app, such as its category, rating, number of reviews, sizes, etc. \n",
    "This structure allows for both descriptive and comparative statistical analysis. \n",
    "This project will include both descriptive and comparative analysis. "
   ]
  },
  {
   "cell_type": "code",
   "execution_count": 3,
   "id": "d60fb954-d121-4594-b718-999e49bca958",
   "metadata": {},
   "outputs": [
    {
     "name": "stdout",
     "output_type": "stream",
     "text": [
      "<class 'pandas.core.frame.DataFrame'>\n",
      "RangeIndex: 10841 entries, 0 to 10840\n",
      "Data columns (total 13 columns):\n",
      " #   Column          Non-Null Count  Dtype  \n",
      "---  ------          --------------  -----  \n",
      " 0   App             10841 non-null  object \n",
      " 1   Category        10841 non-null  object \n",
      " 2   Rating          9367 non-null   float64\n",
      " 3   Reviews         10841 non-null  object \n",
      " 4   Size            10841 non-null  object \n",
      " 5   Installs        10841 non-null  object \n",
      " 6   Type            10840 non-null  object \n",
      " 7   Price           10841 non-null  object \n",
      " 8   Content Rating  10840 non-null  object \n",
      " 9   Genres          10841 non-null  object \n",
      " 10  Last Updated    10841 non-null  object \n",
      " 11  Current Ver     10833 non-null  object \n",
      " 12  Android Ver     10838 non-null  object \n",
      "dtypes: float64(1), object(12)\n",
      "memory usage: 1.1+ MB\n"
     ]
    }
   ],
   "source": [
    "data.info()"
   ]
  },
  {
   "cell_type": "code",
   "execution_count": 4,
   "id": "919840eb-2ede-4e13-86be-e6ae4a576302",
   "metadata": {},
   "outputs": [
    {
     "data": {
      "text/html": [
       "<div>\n",
       "<style scoped>\n",
       "    .dataframe tbody tr th:only-of-type {\n",
       "        vertical-align: middle;\n",
       "    }\n",
       "\n",
       "    .dataframe tbody tr th {\n",
       "        vertical-align: top;\n",
       "    }\n",
       "\n",
       "    .dataframe thead th {\n",
       "        text-align: right;\n",
       "    }\n",
       "</style>\n",
       "<table border=\"1\" class=\"dataframe\">\n",
       "  <thead>\n",
       "    <tr style=\"text-align: right;\">\n",
       "      <th></th>\n",
       "      <th>Rating</th>\n",
       "    </tr>\n",
       "  </thead>\n",
       "  <tbody>\n",
       "    <tr>\n",
       "      <th>count</th>\n",
       "      <td>9367.000000</td>\n",
       "    </tr>\n",
       "    <tr>\n",
       "      <th>mean</th>\n",
       "      <td>4.193338</td>\n",
       "    </tr>\n",
       "    <tr>\n",
       "      <th>std</th>\n",
       "      <td>0.537431</td>\n",
       "    </tr>\n",
       "    <tr>\n",
       "      <th>min</th>\n",
       "      <td>1.000000</td>\n",
       "    </tr>\n",
       "    <tr>\n",
       "      <th>25%</th>\n",
       "      <td>4.000000</td>\n",
       "    </tr>\n",
       "    <tr>\n",
       "      <th>50%</th>\n",
       "      <td>4.300000</td>\n",
       "    </tr>\n",
       "    <tr>\n",
       "      <th>75%</th>\n",
       "      <td>4.500000</td>\n",
       "    </tr>\n",
       "    <tr>\n",
       "      <th>max</th>\n",
       "      <td>19.000000</td>\n",
       "    </tr>\n",
       "  </tbody>\n",
       "</table>\n",
       "</div>"
      ],
      "text/plain": [
       "            Rating\n",
       "count  9367.000000\n",
       "mean      4.193338\n",
       "std       0.537431\n",
       "min       1.000000\n",
       "25%       4.000000\n",
       "50%       4.300000\n",
       "75%       4.500000\n",
       "max      19.000000"
      ]
     },
     "execution_count": 4,
     "metadata": {},
     "output_type": "execute_result"
    }
   ],
   "source": [
    "data.describe()"
   ]
  },
  {
   "cell_type": "markdown",
   "id": "f193ecc6-44e8-4512-af31-c0141eaa2171",
   "metadata": {},
   "source": [
    "**Interpretation on Data Types:**\n",
    "Among these variables, only Rating is stored as a `float64` data type(numeric), while others are stored as the `object` data type (strings). \n",
    "This indicates that numerical-looking columns, such as *Reviews*, *Installs*, and *Size*, will require conversion in the data cleaning stage. \n",
    "Additionally, the columns *Rating*, *Type*, *Content Rating*, *Current Ver*, and *Android Ver* contain missing values, as shown by the non-null counts being lower than the total number of entries (10841). "
   ]
  },
  {
   "cell_type": "markdown",
   "id": "f542d7d8-d505-4e08-8623-25e1f6ea0503",
   "metadata": {},
   "source": [
    "### Step 2: Data Cleaning\n",
    "Goal: Ensure that key numeric columns (*Reviews*, *Installs*, *Size*) are valid and get them ready for conversion. "
   ]
  },
  {
   "cell_type": "markdown",
   "id": "af86a2b5-ba6e-4b7e-b0ac-4e607c35be5c",
   "metadata": {},
   "source": [
    "### Step 2.1: Validating, Cleaning, and Converting the *Reviews* column\n",
    "This step ensures that the `Reviews` column contains only valid numeric values that can be used for quantitative analysis."
   ]
  },
  {
   "cell_type": "code",
   "execution_count": 5,
   "id": "9ab44309-9b80-4651-af6d-65c20a153e11",
   "metadata": {},
   "outputs": [
    {
     "data": {
      "text/plain": [
       "0       159\n",
       "1       967\n",
       "2     87510\n",
       "3    215644\n",
       "4       967\n",
       "Name: Reviews, dtype: object"
      ]
     },
     "execution_count": 5,
     "metadata": {},
     "output_type": "execute_result"
    }
   ],
   "source": [
    "# 1. Preview for data types and first five rows\n",
    "data[\"Reviews\"].head()"
   ]
  },
  {
   "cell_type": "markdown",
   "id": "ae8bbc8e-d6c5-4dd1-ad53-77b15f21d1e4",
   "metadata": {},
   "source": [
    "Purpose: To preview the column and verify its data type (`object`), which means the values are stored as text and need conversion."
   ]
  },
  {
   "cell_type": "code",
   "execution_count": 6,
   "id": "761ef8ec-01a1-4a1a-b60c-7adbe18c8511",
   "metadata": {},
   "outputs": [
    {
     "data": {
      "text/html": [
       "<div>\n",
       "<style scoped>\n",
       "    .dataframe tbody tr th:only-of-type {\n",
       "        vertical-align: middle;\n",
       "    }\n",
       "\n",
       "    .dataframe tbody tr th {\n",
       "        vertical-align: top;\n",
       "    }\n",
       "\n",
       "    .dataframe thead th {\n",
       "        text-align: right;\n",
       "    }\n",
       "</style>\n",
       "<table border=\"1\" class=\"dataframe\">\n",
       "  <thead>\n",
       "    <tr style=\"text-align: right;\">\n",
       "      <th></th>\n",
       "      <th>App</th>\n",
       "      <th>Category</th>\n",
       "      <th>Rating</th>\n",
       "      <th>Reviews</th>\n",
       "      <th>Size</th>\n",
       "      <th>Installs</th>\n",
       "      <th>Type</th>\n",
       "      <th>Price</th>\n",
       "      <th>Content Rating</th>\n",
       "      <th>Genres</th>\n",
       "      <th>Last Updated</th>\n",
       "      <th>Current Ver</th>\n",
       "      <th>Android Ver</th>\n",
       "    </tr>\n",
       "  </thead>\n",
       "  <tbody>\n",
       "    <tr>\n",
       "      <th>10472</th>\n",
       "      <td>Life Made WI-Fi Touchscreen Photo Frame</td>\n",
       "      <td>1.9</td>\n",
       "      <td>19.0</td>\n",
       "      <td>3.0M</td>\n",
       "      <td>1,000+</td>\n",
       "      <td>Free</td>\n",
       "      <td>0</td>\n",
       "      <td>Everyone</td>\n",
       "      <td>NaN</td>\n",
       "      <td>February 11, 2018</td>\n",
       "      <td>1.0.19</td>\n",
       "      <td>4.0 and up</td>\n",
       "      <td>NaN</td>\n",
       "    </tr>\n",
       "  </tbody>\n",
       "</table>\n",
       "</div>"
      ],
      "text/plain": [
       "                                           App Category  Rating Reviews  \\\n",
       "10472  Life Made WI-Fi Touchscreen Photo Frame      1.9    19.0    3.0M   \n",
       "\n",
       "         Size Installs Type     Price Content Rating             Genres  \\\n",
       "10472  1,000+     Free    0  Everyone            NaN  February 11, 2018   \n",
       "\n",
       "      Last Updated Current Ver Android Ver  \n",
       "10472       1.0.19  4.0 and up         NaN  "
      ]
     },
     "execution_count": 6,
     "metadata": {},
     "output_type": "execute_result"
    }
   ],
   "source": [
    "# 2. Detect invalid entries (non-numeric)\n",
    "mask_reviews = data[\"Reviews\"].str.contains(\"[^0-9]\", regex=True, na=False)\n",
    "data[mask_reviews].head()"
   ]
  },
  {
   "cell_type": "markdown",
   "id": "96fb7539-e6b3-489d-84ea-bd5925f2ffcf",
   "metadata": {},
   "source": [
    "We use a regular expression to find entries that contain any non-numeric character, which may cause conversion errors (e.g., \"3.0M\")."
   ]
  },
  {
   "cell_type": "code",
   "execution_count": 7,
   "id": "4ceb2e61-4c41-434e-ada6-0f534262ff1f",
   "metadata": {},
   "outputs": [
    {
     "data": {
      "text/plain": [
       "1"
      ]
     },
     "execution_count": 7,
     "metadata": {},
     "output_type": "execute_result"
    }
   ],
   "source": [
    "# 3. Count how many will become NaN if converted\n",
    "invalid_reviews = int(pd.to_numeric(data[\"Reviews\"], errors=\"coerce\").isna().sum())\n",
    "invalid_reviews"
   ]
  },
  {
   "cell_type": "markdown",
   "id": "f67bd574-bbde-4321-b4d3-020d5bbf3e4d",
   "metadata": {},
   "source": [
    "Instead of previewing, here we quantify the issue by simulating conversion.\n",
    "`pd.to_numeric(..., errors=\"coerce\")` temporarily converts all values to numbers, replacing invalid ones with NaN.\n",
    "By summing `.isna()`, we can count how many entries would become NaN if converted."
   ]
  },
  {
   "cell_type": "code",
   "execution_count": 8,
   "id": "0a4e6bca-1b1a-410a-a3b7-e27565e122f1",
   "metadata": {},
   "outputs": [],
   "source": [
    "# 4. Convert column to numeric type\n",
    "data[\"Reviews\"] = pd.to_numeric(data[\"Reviews\"], errors=\"coerce\")"
   ]
  },
  {
   "cell_type": "markdown",
   "id": "868cee1f-6fa1-4d7e-b85d-e9b73ebff89e",
   "metadata": {},
   "source": [
    "The command `pd.to_numeric(data[\"Reviews\"], errors=\"coerce\")` was applied to convert all valid entries into numeric data.  \n",
    "The single invalid value was automatically converted to `NaN`.  \n",
    "This ensures that the *Reviews* column can now be used for quantitative analysis."
   ]
  },
  {
   "cell_type": "code",
   "execution_count": 9,
   "id": "2f2bf6ac-ddfb-4abe-864e-066a60d65c59",
   "metadata": {},
   "outputs": [
    {
     "data": {
      "text/plain": [
       "np.int64(1)"
      ]
     },
     "execution_count": 9,
     "metadata": {},
     "output_type": "execute_result"
    }
   ],
   "source": [
    "# 5. Verify conversion\n",
    "data[\"Reviews\"].dtype\n",
    "data[\"Reviews\"].isna().sum()"
   ]
  },
  {
   "cell_type": "markdown",
   "id": "80eb6f64-adc8-40bb-a491-2055e1ca5634",
   "metadata": {},
   "source": [
    "After validation, only one invalid entry (\"3.0M\") was found in the *Reviews* column.  \n",
    "The column was converted into a numeric data type using `pd.to_numeric()`.  \n",
    "The single invalid value was automatically replaced with `NaN`.  \n",
    "This ensures that the *Reviews* column is now suitable for quantitative analysis."
   ]
  },
  {
   "cell_type": "markdown",
   "id": "9ec7e3f8-1669-460e-a5fd-5ee38eb816dc",
   "metadata": {},
   "source": [
    "### Step 2.2: Validating, Cleaning, and Converting the *Installs* column¶"
   ]
  },
  {
   "cell_type": "code",
   "execution_count": 10,
   "id": "fe26faca-758e-40f1-a677-b6392ac5f5b7",
   "metadata": {},
   "outputs": [
    {
     "data": {
      "text/plain": [
       "0        10,000+\n",
       "1       500,000+\n",
       "2     5,000,000+\n",
       "3    50,000,000+\n",
       "4       100,000+\n",
       "Name: Installs, dtype: object"
      ]
     },
     "execution_count": 10,
     "metadata": {},
     "output_type": "execute_result"
    }
   ],
   "source": [
    "# 1. Preview\n",
    "data[\"Installs\"].head()"
   ]
  },
  {
   "cell_type": "code",
   "execution_count": 11,
   "id": "834e1dcd-412c-481c-a089-f44f614b0197",
   "metadata": {
    "scrolled": true
   },
   "outputs": [],
   "source": [
    "# 2. Remove symbols\n",
    "data[\"Installs\"] = data[\"Installs\"].str.replace(\"+\", \"\", regex=False)\n",
    "data[\"Installs\"] = data[\"Installs\"].str.replace(\",\", \"\", regex=False)"
   ]
  },
  {
   "cell_type": "code",
   "execution_count": 12,
   "id": "54a92485-7ad7-4411-823b-54424ae1a9a6",
   "metadata": {},
   "outputs": [
    {
     "data": {
      "text/plain": [
       "1"
      ]
     },
     "execution_count": 12,
     "metadata": {},
     "output_type": "execute_result"
    }
   ],
   "source": [
    "# 3. Detect and count invalid values\n",
    "invalid_installs = int(pd.to_numeric(data[\"Installs\"], errors=\"coerce\").isna().sum())\n",
    "invalid_installs"
   ]
  },
  {
   "cell_type": "code",
   "execution_count": 13,
   "id": "09c225d0-0add-456e-90a5-a2866c6b89af",
   "metadata": {},
   "outputs": [],
   "source": [
    "# 4. Convert column to numeric\n",
    "data[\"Installs\"] = pd.to_numeric(data[\"Installs\"], errors=\"coerce\")"
   ]
  },
  {
   "cell_type": "code",
   "execution_count": 14,
   "id": "b672593d-061f-4fbe-9ef0-b0bf4d2857da",
   "metadata": {},
   "outputs": [
    {
     "data": {
      "text/plain": [
       "np.int64(1)"
      ]
     },
     "execution_count": 14,
     "metadata": {},
     "output_type": "execute_result"
    }
   ],
   "source": [
    "# 5. Verify convertion\n",
    "data[\"Installs\"].dtype\n",
    "data[\"Installs\"].isna().sum()"
   ]
  },
  {
   "cell_type": "markdown",
   "id": "8ffeba78-b60d-4624-b048-575d042bed82",
   "metadata": {},
   "source": [
    "### Step 2.3: Validating, Cleaning, and Converting the *Size* column"
   ]
  },
  {
   "cell_type": "code",
   "execution_count": 15,
   "id": "9f2864d9-53ed-4445-b69e-e47e8f68938e",
   "metadata": {},
   "outputs": [
    {
     "data": {
      "text/plain": [
       "8845                   2.6M\n",
       "4084     Varies with device\n",
       "3456     Varies with device\n",
       "342      Varies with device\n",
       "698                    9.3M\n",
       "10751                   44k\n",
       "9197                   3.9M\n",
       "6137                   4.1M\n",
       "6108                   2.5M\n",
       "6492                   8.0M\n",
       "2484                   7.1M\n",
       "7134                   5.6M\n",
       "5615                    46M\n",
       "3330     Varies with device\n",
       "6632                   1.2M\n",
       "10041                  170k\n",
       "3788     Varies with device\n",
       "3572     Varies with device\n",
       "1002                    77M\n",
       "3472                    15M\n",
       "Name: Size, dtype: object"
      ]
     },
     "execution_count": 15,
     "metadata": {},
     "output_type": "execute_result"
    }
   ],
   "source": [
    "# 1. Preview typical entries and confirm data type (object)\n",
    "data[\"Size\"].head(10)\n",
    "\n",
    "# Checking unique and 20 random samples helps us see that values mix letters (\"M\")\n",
    "# and numbers(integers and floats), \n",
    "# and that some entries contain \"Varies with device\" instead of numeric data.\n",
    "data[\"Size\"].unique()[:20]\n",
    "data[\"Size\"].sample(20)"
   ]
  },
  {
   "cell_type": "code",
   "execution_count": 16,
   "id": "f9610e69-0103-4a5a-9322-fd9bd88ae586",
   "metadata": {},
   "outputs": [
    {
     "data": {
      "text/plain": [
       "1695"
      ]
     },
     "execution_count": 16,
     "metadata": {},
     "output_type": "execute_result"
    }
   ],
   "source": [
    "int((data[\"Size\"].str.lower() == \"varies with device\").sum())\n",
    "\n",
    "# Count how many entries contain the phrase \"Varies with device\" (case-insensitive). \n",
    "# These will be replaced with NaN in the next step."
   ]
  },
  {
   "cell_type": "markdown",
   "id": "b1713fed-96b3-439f-8980-31f5fd01447e",
   "metadata": {},
   "source": [
    "There are 1,695 entries labeled \"Varies with device\", which cannot be converted to numeric values."
   ]
  },
  {
   "cell_type": "code",
   "execution_count": 17,
   "id": "1d97219e-64c1-4d92-b71f-4998ba3876ba",
   "metadata": {},
   "outputs": [],
   "source": [
    "# 2. Replace the non-numeric text\n",
    "data[\"Size\"] = data[\"Size\"].replace(\"Varies with device\", np.nan)\n",
    "\n",
    "# Replace text-based entries (\"Varies with device\") with NaN\n",
    "# so that the column only contains numeric-like values or missing values."
   ]
  },
  {
   "cell_type": "code",
   "execution_count": 18,
   "id": "eb7b9905-dc23-470b-816b-6a6ddb4a4a7a",
   "metadata": {},
   "outputs": [],
   "source": [
    "# 3. Convert size units\n",
    "def size_to_mb(size):\n",
    "    if pd.isna(size):\n",
    "        return np.nan\n",
    "    elif \"M\" in size:\n",
    "        return float(size.replace(\"M\",\"\"))\n",
    "    elif size.replace('.', '', 1).isdigit():\n",
    "        return float(size)\n",
    "    else: \n",
    "        return np.nan\n",
    "\n",
    "# Since most entries use megabytes (\"M\"), \n",
    "# all values are standardized in MB to maintain unit consistency.\n",
    "# Convert size strings into numeric (MB) values:\n",
    "# - If entry contains \"M\", remove the letter and convert to float.\n",
    "# - If entry is already a numeric string (e.g., \"5.4\"), keep it as float.\n",
    "# - Otherwise, return NaN."
   ]
  },
  {
   "cell_type": "code",
   "execution_count": 19,
   "id": "7746e788-453e-4dd1-a25e-44e20b46de0b",
   "metadata": {},
   "outputs": [],
   "source": [
    "# 4. Apply function size_to_mb into all size\n",
    "data[\"Size\"]=data[\"Size\"].apply(size_to_mb)"
   ]
  },
  {
   "cell_type": "markdown",
   "id": "19565d6e-9757-4b24-a903-f8b47b3d8aea",
   "metadata": {},
   "source": [
    "Apply the conversion function to all entries.\n",
    "Then verify that the column is now numeric and count total NaN values (after replacement)."
   ]
  },
  {
   "cell_type": "code",
   "execution_count": 20,
   "id": "e97acf54-5217-4608-963e-b587e668766f",
   "metadata": {},
   "outputs": [
    {
     "data": {
      "text/plain": [
       "2012"
      ]
     },
     "execution_count": 20,
     "metadata": {},
     "output_type": "execute_result"
    }
   ],
   "source": [
    "# 5. Verify Conversion\n",
    "data[\"Size\"].dtype\n",
    "int(data[\"Size\"].isna().sum())"
   ]
  },
  {
   "cell_type": "markdown",
   "id": "71fa6afd-bbc0-4af0-a545-e602c7e7e09a",
   "metadata": {},
   "source": [
    "**Verification Note:**  \n",
    "Before cleaning, 1695 entries in the *Size* column were labeled as `\"Varies with device\"`.  \n",
    "After replacement, the total number of missing (NaN) values became 2012,  \n",
    "which includes both the replaced text entries and the originally missing values.  \n",
    "This confirms that the text replacement and missing value handling were successfully applied."
   ]
  },
  {
   "cell_type": "markdown",
   "id": "9e223ab1-f342-405c-8a83-a4744efd80ef",
   "metadata": {},
   "source": [
    "### Step 3: Descriptive Analysis\n",
    "After cleaning, key numeric columns such as *Rating*, *Reviews*, *Installs*, and *Size* can now be used for descriptive and comparative statistical analysis."
   ]
  },
  {
   "cell_type": "markdown",
   "id": "ff3613ac-5778-4862-bc59-013050861d40",
   "metadata": {},
   "source": [
    "### Step 3.1: Central trends"
   ]
  },
  {
   "cell_type": "code",
   "execution_count": 21,
   "id": "7c85ae97-f36a-4504-860c-ab6cc47a1a31",
   "metadata": {},
   "outputs": [
    {
     "data": {
      "text/html": [
       "<div>\n",
       "<style scoped>\n",
       "    .dataframe tbody tr th:only-of-type {\n",
       "        vertical-align: middle;\n",
       "    }\n",
       "\n",
       "    .dataframe tbody tr th {\n",
       "        vertical-align: top;\n",
       "    }\n",
       "\n",
       "    .dataframe thead th {\n",
       "        text-align: right;\n",
       "    }\n",
       "</style>\n",
       "<table border=\"1\" class=\"dataframe\">\n",
       "  <thead>\n",
       "    <tr style=\"text-align: right;\">\n",
       "      <th></th>\n",
       "      <th>Rating</th>\n",
       "      <th>Reviews</th>\n",
       "      <th>Installs</th>\n",
       "      <th>Size</th>\n",
       "    </tr>\n",
       "  </thead>\n",
       "  <tbody>\n",
       "    <tr>\n",
       "      <th>count</th>\n",
       "      <td>9367.000000</td>\n",
       "      <td>1.084000e+04</td>\n",
       "      <td>1.084000e+04</td>\n",
       "      <td>8829.000000</td>\n",
       "    </tr>\n",
       "    <tr>\n",
       "      <th>mean</th>\n",
       "      <td>4.193338</td>\n",
       "      <td>4.441529e+05</td>\n",
       "      <td>1.546434e+07</td>\n",
       "      <td>22.270540</td>\n",
       "    </tr>\n",
       "    <tr>\n",
       "      <th>std</th>\n",
       "      <td>0.537431</td>\n",
       "      <td>2.927761e+06</td>\n",
       "      <td>8.502936e+07</td>\n",
       "      <td>22.628691</td>\n",
       "    </tr>\n",
       "    <tr>\n",
       "      <th>min</th>\n",
       "      <td>1.000000</td>\n",
       "      <td>0.000000e+00</td>\n",
       "      <td>0.000000e+00</td>\n",
       "      <td>1.000000</td>\n",
       "    </tr>\n",
       "    <tr>\n",
       "      <th>25%</th>\n",
       "      <td>4.000000</td>\n",
       "      <td>3.800000e+01</td>\n",
       "      <td>1.000000e+03</td>\n",
       "      <td>5.400000</td>\n",
       "    </tr>\n",
       "    <tr>\n",
       "      <th>50%</th>\n",
       "      <td>4.300000</td>\n",
       "      <td>2.094000e+03</td>\n",
       "      <td>1.000000e+05</td>\n",
       "      <td>14.000000</td>\n",
       "    </tr>\n",
       "    <tr>\n",
       "      <th>75%</th>\n",
       "      <td>4.500000</td>\n",
       "      <td>5.477550e+04</td>\n",
       "      <td>5.000000e+06</td>\n",
       "      <td>31.000000</td>\n",
       "    </tr>\n",
       "    <tr>\n",
       "      <th>max</th>\n",
       "      <td>19.000000</td>\n",
       "      <td>7.815831e+07</td>\n",
       "      <td>1.000000e+09</td>\n",
       "      <td>100.000000</td>\n",
       "    </tr>\n",
       "  </tbody>\n",
       "</table>\n",
       "</div>"
      ],
      "text/plain": [
       "            Rating       Reviews      Installs         Size\n",
       "count  9367.000000  1.084000e+04  1.084000e+04  8829.000000\n",
       "mean      4.193338  4.441529e+05  1.546434e+07    22.270540\n",
       "std       0.537431  2.927761e+06  8.502936e+07    22.628691\n",
       "min       1.000000  0.000000e+00  0.000000e+00     1.000000\n",
       "25%       4.000000  3.800000e+01  1.000000e+03     5.400000\n",
       "50%       4.300000  2.094000e+03  1.000000e+05    14.000000\n",
       "75%       4.500000  5.477550e+04  5.000000e+06    31.000000\n",
       "max      19.000000  7.815831e+07  1.000000e+09   100.000000"
      ]
     },
     "execution_count": 21,
     "metadata": {},
     "output_type": "execute_result"
    }
   ],
   "source": [
    "data[[\"Rating\", \"Reviews\", \"Installs\", \"Size\"]].describe()"
   ]
  },
  {
   "cell_type": "markdown",
   "id": "613ad420-8436-4ca8-8df0-96d508c91136",
   "metadata": {},
   "source": [
    "### Interpretation\n",
    "the mean is "
   ]
  },
  {
   "cell_type": "markdown",
   "id": "d293e43d-9f48-4146-ba5e-73e11efc48bc",
   "metadata": {},
   "source": [
    "### Step 3.2: Visualization\n",
    "To better understand distributions and outliers, I will visualize key numeric columns."
   ]
  },
  {
   "cell_type": "code",
   "execution_count": null,
   "id": "54e739ba-92ea-4128-9a33-a75f78d218a3",
   "metadata": {},
   "outputs": [],
   "source": []
  },
  {
   "cell_type": "code",
   "execution_count": null,
   "id": "a19f9a93-b8f2-4f4e-8971-c6e15138579c",
   "metadata": {},
   "outputs": [],
   "source": []
  },
  {
   "cell_type": "code",
   "execution_count": null,
   "id": "298d5080-8745-4928-95f0-ed8930fdd0ae",
   "metadata": {},
   "outputs": [],
   "source": []
  },
  {
   "cell_type": "code",
   "execution_count": null,
   "id": "9d8579d5-8278-4fa6-9343-3821f2bc72c7",
   "metadata": {},
   "outputs": [],
   "source": []
  }
 ],
 "metadata": {
  "kernelspec": {
   "display_name": "Python [conda env:base] *",
   "language": "python",
   "name": "conda-base-py"
  },
  "language_info": {
   "codemirror_mode": {
    "name": "ipython",
    "version": 3
   },
   "file_extension": ".py",
   "mimetype": "text/x-python",
   "name": "python",
   "nbconvert_exporter": "python",
   "pygments_lexer": "ipython3",
   "version": "3.13.5"
  }
 },
 "nbformat": 4,
 "nbformat_minor": 5
}
